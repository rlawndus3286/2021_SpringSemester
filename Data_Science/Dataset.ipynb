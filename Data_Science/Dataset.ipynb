{
 "cells": [
  {
   "cell_type": "code",
   "execution_count": 1,
   "metadata": {},
   "outputs": [],
   "source": [
    "import requests\n",
    "from bs4 import BeautifulSoup\n",
    "import pandas as pd\n",
    "import xmltodict\n",
    "import json"
   ]
  },
  {
   "cell_type": "code",
   "execution_count": 2,
   "metadata": {},
   "outputs": [],
   "source": [
    "def stock(code, count, url):\n",
    "    rs = requests.get(url)\n",
    "    dt = xmltodict.parse(rs.text)\n",
    "    js = json.dumps(dt, indent=4)\n",
    "    js = json.loads(js)\n",
    "    \n",
    "    data = pd.json_normalize(js['protocol']['chartdata']['item'])\n",
    "    df = data['@data'].str.split(\"|\", expand=True)\n",
    "    df.columns = [\"date\",\"open\",\"high\",\"low\",\"close\",\"Volume\"]\n",
    "    \n",
    "    return df"
   ]
  },
  {
   "cell_type": "code",
   "execution_count": 3,
   "metadata": {},
   "outputs": [],
   "source": [
    "code = \"005930\"\n",
    "count = \"2500\"\n",
    "url = f\"https://fchart.stock.naver.com/sise.nhn?symbol=005930&timeframe=day&count=500&requestType=0\""
   ]
  },
  {
   "cell_type": "code",
   "execution_count": 26,
   "metadata": {},
   "outputs": [],
   "source": [
    "Samsung = stock(code, count, url)"
   ]
  },
  {
   "cell_type": "code",
   "execution_count": 27,
   "metadata": {},
   "outputs": [
    {
     "data": {
      "text/html": [
       "<div>\n",
       "<style scoped>\n",
       "    .dataframe tbody tr th:only-of-type {\n",
       "        vertical-align: middle;\n",
       "    }\n",
       "\n",
       "    .dataframe tbody tr th {\n",
       "        vertical-align: top;\n",
       "    }\n",
       "\n",
       "    .dataframe thead th {\n",
       "        text-align: right;\n",
       "    }\n",
       "</style>\n",
       "<table border=\"1\" class=\"dataframe\">\n",
       "  <thead>\n",
       "    <tr style=\"text-align: right;\">\n",
       "      <th></th>\n",
       "      <th>date</th>\n",
       "      <th>open</th>\n",
       "      <th>high</th>\n",
       "      <th>low</th>\n",
       "      <th>close</th>\n",
       "      <th>Volume</th>\n",
       "    </tr>\n",
       "  </thead>\n",
       "  <tbody>\n",
       "    <tr>\n",
       "      <th>495</th>\n",
       "      <td>20210225</td>\n",
       "      <td>84000</td>\n",
       "      <td>85400</td>\n",
       "      <td>83000</td>\n",
       "      <td>85300</td>\n",
       "      <td>34155986</td>\n",
       "    </tr>\n",
       "    <tr>\n",
       "      <th>496</th>\n",
       "      <td>20210226</td>\n",
       "      <td>82800</td>\n",
       "      <td>83400</td>\n",
       "      <td>82000</td>\n",
       "      <td>82500</td>\n",
       "      <td>38520800</td>\n",
       "    </tr>\n",
       "    <tr>\n",
       "      <th>497</th>\n",
       "      <td>20210302</td>\n",
       "      <td>85100</td>\n",
       "      <td>85300</td>\n",
       "      <td>83000</td>\n",
       "      <td>83600</td>\n",
       "      <td>33498180</td>\n",
       "    </tr>\n",
       "    <tr>\n",
       "      <th>498</th>\n",
       "      <td>20210303</td>\n",
       "      <td>83500</td>\n",
       "      <td>84000</td>\n",
       "      <td>82800</td>\n",
       "      <td>84000</td>\n",
       "      <td>19882132</td>\n",
       "    </tr>\n",
       "    <tr>\n",
       "      <th>499</th>\n",
       "      <td>20210304</td>\n",
       "      <td>82600</td>\n",
       "      <td>83200</td>\n",
       "      <td>82200</td>\n",
       "      <td>82400</td>\n",
       "      <td>23258709</td>\n",
       "    </tr>\n",
       "  </tbody>\n",
       "</table>\n",
       "</div>"
      ],
      "text/plain": [
       "         date   open   high    low  close    Volume\n",
       "495  20210225  84000  85400  83000  85300  34155986\n",
       "496  20210226  82800  83400  82000  82500  38520800\n",
       "497  20210302  85100  85300  83000  83600  33498180\n",
       "498  20210303  83500  84000  82800  84000  19882132\n",
       "499  20210304  82600  83200  82200  82400  23258709"
      ]
     },
     "execution_count": 27,
     "metadata": {},
     "output_type": "execute_result"
    }
   ],
   "source": [
    "Samsung.tail()"
   ]
  },
  {
   "cell_type": "code",
   "execution_count": 36,
   "metadata": {},
   "outputs": [
    {
     "data": {
      "text/html": [
       "<div>\n",
       "<style scoped>\n",
       "    .dataframe tbody tr th:only-of-type {\n",
       "        vertical-align: middle;\n",
       "    }\n",
       "\n",
       "    .dataframe tbody tr th {\n",
       "        vertical-align: top;\n",
       "    }\n",
       "\n",
       "    .dataframe thead th {\n",
       "        text-align: right;\n",
       "    }\n",
       "</style>\n",
       "<table border=\"1\" class=\"dataframe\">\n",
       "  <thead>\n",
       "    <tr style=\"text-align: right;\">\n",
       "      <th></th>\n",
       "      <th>date</th>\n",
       "      <th>open</th>\n",
       "      <th>high</th>\n",
       "      <th>low</th>\n",
       "      <th>close</th>\n",
       "      <th>Volume</th>\n",
       "    </tr>\n",
       "  </thead>\n",
       "  <tbody>\n",
       "    <tr>\n",
       "      <th>0</th>\n",
       "      <td>20190225</td>\n",
       "      <td>47400</td>\n",
       "      <td>47550</td>\n",
       "      <td>47050</td>\n",
       "      <td>47350</td>\n",
       "      <td>7484716</td>\n",
       "    </tr>\n",
       "    <tr>\n",
       "      <th>1</th>\n",
       "      <td>20190226</td>\n",
       "      <td>47350</td>\n",
       "      <td>47450</td>\n",
       "      <td>46500</td>\n",
       "      <td>46750</td>\n",
       "      <td>7985547</td>\n",
       "    </tr>\n",
       "    <tr>\n",
       "      <th>2</th>\n",
       "      <td>20190227</td>\n",
       "      <td>47000</td>\n",
       "      <td>47250</td>\n",
       "      <td>46750</td>\n",
       "      <td>46750</td>\n",
       "      <td>8045211</td>\n",
       "    </tr>\n",
       "    <tr>\n",
       "      <th>3</th>\n",
       "      <td>20190228</td>\n",
       "      <td>46400</td>\n",
       "      <td>46500</td>\n",
       "      <td>45100</td>\n",
       "      <td>45100</td>\n",
       "      <td>23569321</td>\n",
       "    </tr>\n",
       "    <tr>\n",
       "      <th>4</th>\n",
       "      <td>20190304</td>\n",
       "      <td>46000</td>\n",
       "      <td>46100</td>\n",
       "      <td>44800</td>\n",
       "      <td>44850</td>\n",
       "      <td>12926539</td>\n",
       "    </tr>\n",
       "    <tr>\n",
       "      <th>...</th>\n",
       "      <td>...</td>\n",
       "      <td>...</td>\n",
       "      <td>...</td>\n",
       "      <td>...</td>\n",
       "      <td>...</td>\n",
       "      <td>...</td>\n",
       "    </tr>\n",
       "    <tr>\n",
       "      <th>495</th>\n",
       "      <td>20210225</td>\n",
       "      <td>84000</td>\n",
       "      <td>85400</td>\n",
       "      <td>83000</td>\n",
       "      <td>85300</td>\n",
       "      <td>34155986</td>\n",
       "    </tr>\n",
       "    <tr>\n",
       "      <th>496</th>\n",
       "      <td>20210226</td>\n",
       "      <td>82800</td>\n",
       "      <td>83400</td>\n",
       "      <td>82000</td>\n",
       "      <td>82500</td>\n",
       "      <td>38520800</td>\n",
       "    </tr>\n",
       "    <tr>\n",
       "      <th>497</th>\n",
       "      <td>20210302</td>\n",
       "      <td>85100</td>\n",
       "      <td>85300</td>\n",
       "      <td>83000</td>\n",
       "      <td>83600</td>\n",
       "      <td>33498180</td>\n",
       "    </tr>\n",
       "    <tr>\n",
       "      <th>498</th>\n",
       "      <td>20210303</td>\n",
       "      <td>83500</td>\n",
       "      <td>84000</td>\n",
       "      <td>82800</td>\n",
       "      <td>84000</td>\n",
       "      <td>19882132</td>\n",
       "    </tr>\n",
       "    <tr>\n",
       "      <th>499</th>\n",
       "      <td>20210304</td>\n",
       "      <td>82600</td>\n",
       "      <td>83200</td>\n",
       "      <td>82200</td>\n",
       "      <td>82400</td>\n",
       "      <td>23258709</td>\n",
       "    </tr>\n",
       "  </tbody>\n",
       "</table>\n",
       "<p>500 rows × 6 columns</p>\n",
       "</div>"
      ],
      "text/plain": [
       "         date   open   high    low  close    Volume\n",
       "0    20190225  47400  47550  47050  47350   7484716\n",
       "1    20190226  47350  47450  46500  46750   7985547\n",
       "2    20190227  47000  47250  46750  46750   8045211\n",
       "3    20190228  46400  46500  45100  45100  23569321\n",
       "4    20190304  46000  46100  44800  44850  12926539\n",
       "..        ...    ...    ...    ...    ...       ...\n",
       "495  20210225  84000  85400  83000  85300  34155986\n",
       "496  20210226  82800  83400  82000  82500  38520800\n",
       "497  20210302  85100  85300  83000  83600  33498180\n",
       "498  20210303  83500  84000  82800  84000  19882132\n",
       "499  20210304  82600  83200  82200  82400  23258709\n",
       "\n",
       "[500 rows x 6 columns]"
      ]
     },
     "execution_count": 36,
     "metadata": {},
     "output_type": "execute_result"
    }
   ],
   "source": [
    "Samsung[\"high\"] = pd.to_numeric(Samsung[\"high\"])\n",
    "Samsung[\"low\"] = pd.to_numeric(Samsung[\"low\"])\n",
    "Samsung[\"date\"] = pd.to_numeric(Samsung[\"date\"])\n",
    "Samsung[\"open\"] = pd.to_numeric(Samsung[\"open\"])\n",
    "Samsung[\"close\"] = pd.to_numeric(Samsung[\"close\"])\n",
    "Samsung[\"Volume\"] = pd.to_numeric(Samsung[\"Volume\"])\n",
    "Samsung"
   ]
  },
  {
   "cell_type": "code",
   "execution_count": 29,
   "metadata": {},
   "outputs": [],
   "source": [
    "import matplotlib.pyplot as plt\n",
    "import numpy as np"
   ]
  },
  {
   "cell_type": "code",
   "execution_count": 35,
   "metadata": {},
   "outputs": [
    {
     "data": {
      "image/png": "[encoded data removed]",
      "text/plain": [
       "<Figure size 432x288 with 1 Axes>"
      ]
     },
     "metadata": {
      "needs_background": "light"
     },
     "output_type": "display_data"
    }
   ],
   "source": [
    "plt.plot(Samsung[\"high\"], \"r\")\n",
    "plt.plot(Samsung[\"low\"], \"b\")\n",
    "\n",
    "plt.xticks()\n",
    "plt.yticks()\n",
    "\n",
    "plt.show()"
   ]
  },
  {
   "cell_type": "code",
   "execution_count": 46,
   "metadata": {},
   "outputs": [
    {
     "data": {
      "text/plain": [
       "(500, 1)"
      ]
     },
     "execution_count": 46,
     "metadata": {},
     "output_type": "execute_result"
    }
   ],
   "source": [
    "train = Samsung.to_numpy()\n",
    "\n",
    "(date, op, high, low, cl, vol) = np.hsplit(train, 6)\n",
    "high.shape"
   ]
  },
  {
   "cell_type": "code",
   "execution_count": 51,
   "metadata": {},
   "outputs": [],
   "source": [
    "high.reshape(500,)\n",
    "x = np.linspace(0,500,500)"
   ]
  },
  {
   "cell_type": "code",
   "execution_count": 53,
   "metadata": {},
   "outputs": [
    {
     "data": {
      "text/plain": [
       "LinearRegression()"
      ]
     },
     "execution_count": 53,
     "metadata": {},
     "output_type": "execute_result"
    }
   ],
   "source": [
    "from sklearn.linear_model import LinearRegression\n",
    "linreg = LinearRegression()\n",
    "linreg.fit(x.reshape(500,1),high)"
   ]
  },
  {
   "cell_type": "code",
   "execution_count": 56,
   "metadata": {},
   "outputs": [
    {
     "data": {
      "image/png": "[encoded data removed]",
      "text/plain": [
       "<Figure size 432x288 with 1 Axes>"
      ]
     },
     "metadata": {
      "needs_background": "light"
     },
     "output_type": "display_data"
    }
   ],
   "source": [
    "plt.plot(x,high)\n",
    "plt.plot(x,linreg.predict(x.reshape(500,1)))\n",
    "\n",
    "plt.show()"
   ]
  },
  {
   "cell_type": "code",
   "execution_count": null,
   "metadata": {},
   "outputs": [],
   "source": []
  }
 ],
 "metadata": {
  "kernelspec": {
   "display_name": "Python 3",
   "language": "python",
   "name": "python3"
  },
  "language_info": {
   "codemirror_mode": {
    "name": "ipython",
    "version": 3
   },
   "file_extension": ".py",
   "mimetype": "text/x-python",
   "name": "python",
   "nbconvert_exporter": "python",
   "pygments_lexer": "ipython3",
   "version": "3.8.5"
  }
 },
 "nbformat": 4,
 "nbformat_minor": 4
}
