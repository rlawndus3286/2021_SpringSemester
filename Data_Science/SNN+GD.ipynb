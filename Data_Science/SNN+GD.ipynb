{
 "cells": [
  {
   "cell_type": "markdown",
   "metadata": {},
   "source": [
    "**Paper**\n",
    "\n",
    "The Matrix Calculus You need For Deep Learning\n",
    "- Terence Parr, Jeremy Howard\n",
    "\n",
    "알아둬야 하는 기초 선형대수, 미적분학 정리"
   ]
  },
  {
   "cell_type": "code",
   "execution_count": 1,
   "metadata": {},
   "outputs": [],
   "source": [
    "import numpy as np\n",
    "\n",
    "# 머신러닝, 딥러닝 도구모음\n",
    "import tensorflow as tf\n",
    "\n",
    "# 그래프 도구모음\n",
    "import matplotlib.pyplot as plt"
   ]
  },
  {
   "cell_type": "markdown",
   "metadata": {},
   "source": [
    "# Shallow Neuron Network (얕은 신경망)"
   ]
  },
  {
   "cell_type": "markdown",
   "metadata": {},
   "source": [
    " 앞서 공부한 선형회귀는 직선형태로 y = ax + b 형태로 출력되는 것을 알 수 있었다.\n",
    "\n",
    "그런데, 만약에 많은 변수(무게, 크기, 모양, ...)들을 가지고 선형회귀를 진행하면 좀 더 괜찮지 않을까?\n",
    "\n",
    "그래서 하나의 선형모양을 우리가 아는 뉴런(neuron)으로 표현을 한다."
   ]
  },
  {
   "cell_type": "markdown",
   "metadata": {},
   "source": [
    " 뉴런들을 모아놓은 것들을 계층(layer)이라고 표현을 하고 대체적으로 열벡터(col, 세로)으로 나타낸다.\n",
    "\n",
    "입력, 은닉, 출력 계층으로 나타낼 수 있다.\n",
    "\n",
    "입력 = 데이터들을 받는 부분이다. 예시로 무게, 크기, 모양 ... 이것들이 들어간다.\n",
    "\n",
    "은닉 = 입력에서 받은 x 들을 가공하는 부분이다.\n",
    "\n",
    "출력 = 은닉에서 가공한것을 답으로 출력한다. 예시로 고양이, 개 등등 답이 들어간다."
   ]
  },
  {
   "cell_type": "markdown",
   "metadata": {},
   "source": [
    "## 예시"
   ]
  },
  {
   "cell_type": "markdown",
   "metadata": {},
   "source": [
    "### 문제"
   ]
  },
  {
   "cell_type": "markdown",
   "metadata": {},
   "source": [
    "주어진 데이터와 답\n",
    "\n",
    "데이터 = 좌표평면에 중심을 4개 찍고 그 중심으로 특정한 범위안에 점을 200개씩 찍는다.\n",
    "\n",
    "답 = 중심들의 답을 1번답, 2번답, 3번답, 4번답으로 표현하고 특정범위안에 점들의 답들이 된다.\n",
    "\n",
    "1번답 = 200개, 2번답 = 200개, 3번답 = 200개, 4번답 = 200개"
   ]
  },
  {
   "cell_type": "markdown",
   "metadata": {},
   "source": [
    "### 모델링"
   ]
  },
  {
   "cell_type": "markdown",
   "metadata": {},
   "source": [
    "입력으로는 평면의 좌표 (x,y) 이므로 두개를 받는다. (2 x 1) 행렬\n",
    "\n",
    "은닉으로는 임의로 정한다. 128개, (128 x 1) 행렬\n",
    "\n",
    "출력으로는 답의 개수인 4개로 받는다. (4 x 1) 행렬|"
   ]
  },
  {
   "cell_type": "markdown",
   "metadata": {},
   "source": [
    "입력은 x , 은닉은 h , 출력은 y로 받고, 기울기 부분은 w, 상수 부분은 b로 받는다.\n",
    "\n",
    "( w = weight 가중치 , b = bias 편향도 )"
   ]
  },
  {
   "cell_type": "markdown",
   "metadata": {},
   "source": [
    "입력에서 은닉으로 갈 경우, h = wx + b 로 표현이 된다.\n",
    "\n",
    "h 는 (128 x 1), x 는 (2 x 1) 행렬이므로\n",
    "\n",
    "형태를 맞춰주려면 w 는 (128 x 2) 행렬이고 b 는 (128 x 1) 이다."
   ]
  },
  {
   "cell_type": "markdown",
   "metadata": {},
   "source": [
    "은닉에서 출력으로 갈 경우, y = wh + b 로 표현이 된다.\n",
    "\n",
    "y 는 (10 x 1), h 는 (128 x 1) 행렬이므로\n",
    "\n",
    "형태를 맞춰주려면 w 는 (10 x 128) 행렬이고 b 는 (10 x 1) 이다."
   ]
  },
  {
   "cell_type": "code",
   "execution_count": 2,
   "metadata": {},
   "outputs": [],
   "source": [
    "class SNN(tf.keras.Model):\n",
    "    \n",
    "    def __init__(self):\n",
    "        # 상속받기\n",
    "        # model에서 필요한 함수와 변수들을 가져와줌\n",
    "        super(SNN, self).__init__()\n",
    "        \n",
    "        # layer 만들어주기 d1 = 은닉계층, d2 = 출력계층\n",
    "        # 또한 activation에 따라서 선형식의 역할이 달라짐 (ex. 회귀, 분류 ...)\n",
    "        self.d1 = tf.keras.layers.Dense(128, input_dim=2, activation = \"sigmoid\")\n",
    "        self.d2 = tf.keras.layers.Dense(4, activation=\"softmax\")\n",
    "        \n",
    "    def call(self, x):\n",
    "        h = self.d1(x)\n",
    "        y = self.d2(h)\n",
    "        return y"
   ]
  },
  {
   "cell_type": "markdown",
   "metadata": {},
   "source": [
    "## Gradient Descent (경사 하강법)"
   ]
  },
  {
   "cell_type": "markdown",
   "metadata": {},
   "source": [
    "최적화 하는 방법중 하나임.\n",
    "\n",
    "입력 -> 모델에 넣음 -> 출력 -> 입력과 출력과의 오차\n",
    "\n",
    "이 오차들을 줄이기 위해 미분을 통해서 모델에 있는 변수들의 값들을 바꿈 (w, h)\n",
    "\n",
    "다시 입력 -> 모델에 넣음 -> 출력 -> 입력과 출력과의 오차\n",
    "\n",
    "이것을 계속 반복하여 오차들을 줄여나가면서 모델이 최적화가 됨\n",
    "\n",
    "필요한 것 = loss(손실함수) , optimizer(최적화 함수도구), metric(평가 도구)"
   ]
  },
  {
   "cell_type": "code",
   "execution_count": 3,
   "metadata": {},
   "outputs": [],
   "source": [
    "@tf.function\n",
    "\n",
    "# 넣을 모델, 문제, 정답, 오차, 최적화, 오차와 정확도 계산도구\n",
    "def train_step(model, inputs, labels, loss_object, optimizer, train_loss, train_accuracy):\n",
    "    \n",
    "    # 미분할 변수 저장\n",
    "    with tf.GradientTape() as tape:\n",
    "        predictions = model(inputs)\n",
    "        loss = loss_object(labels, predictions)\n",
    "        \n",
    "    # 미분\n",
    "    gradients = tape.gradient(loss, model.trainable_variables)\n",
    "    \n",
    "    # 미분하여 최적화 시키는 변수들 저장\n",
    "    optimizer.apply_gradients(zip(gradients, model.trainable_variables))\n",
    "    \n",
    "    # 한 세트 훈련 후 오차와 정확도 계산\n",
    "    train_loss(loss)\n",
    "    train_accuracy(labels,predictions)"
   ]
  },
  {
   "cell_type": "markdown",
   "metadata": {},
   "source": [
    "### 모델 정의해주기"
   ]
  },
  {
   "cell_type": "code",
   "execution_count": 4,
   "metadata": {},
   "outputs": [],
   "source": [
    "# 입력 = 2, 은닉 = 128, 출력 = 10\n",
    "Model = SNN()"
   ]
  },
  {
   "cell_type": "markdown",
   "metadata": {},
   "source": [
    "### 문제와 정답 세트 만들기"
   ]
  },
  {
   "cell_type": "code",
   "execution_count": 5,
   "metadata": {},
   "outputs": [],
   "source": [
    "np.random.seed(22)\n",
    "point = []\n",
    "label = []\n",
    "center = 5*np.random.randn(4,2)\n",
    "\n",
    "for index, center in enumerate(center) :\n",
    "    for num in range(100):\n",
    "        point.append(center + np.random.randn(2))\n",
    "        label.append(index)\n",
    "\n",
    "point = np.stack(point, axis=0)\n",
    "label = np.stack(label, axis=0)\n",
    "\n",
    "# 또한 훈련세트에 넣을 때는 문제랑 정답 순서를 섞기도 해야하고\n",
    "# 훈련시킬때 한개한개씩 넣지않고 훈련세트를 한꺼번에 넣는다 (batch)\n",
    "\n",
    "# 32개씩 넣어 훈련시킴\n",
    "train_set = tf.data.Dataset.from_tensor_slices((point, label)).shuffle(400).batch(32)"
   ]
  },
  {
   "cell_type": "code",
   "execution_count": 6,
   "metadata": {},
   "outputs": [
    {
     "data": {
      "text/plain": [
       "array([[  0.16674386,  -7.87826704],\n",
       "       [ -0.43089448,  -7.54752045],\n",
       "       [  0.12800262,  -6.56443568],\n",
       "       [ -1.51825215,  -6.26078085],\n",
       "       [  0.28800067,  -6.25207668],\n",
       "       [  1.06037999,  -8.8053562 ],\n",
       "       [  1.40024029,  -8.91536629],\n",
       "       [ -1.10582321,  -6.97942826],\n",
       "       [  0.58697913,  -6.68760992],\n",
       "       [ -0.0966905 ,  -6.76100357],\n",
       "       [ -1.54829913,  -7.29305849],\n",
       "       [  2.03942704,  -9.80678366],\n",
       "       [ -0.69461199,  -7.41431672],\n",
       "       [ -1.34627894,  -7.4534665 ],\n",
       "       [ -0.35777067,  -7.5676828 ],\n",
       "       [ -0.5385619 ,  -8.40191743],\n",
       "       [  0.13517885,  -7.95566134],\n",
       "       [ -1.56758646,  -5.21060751],\n",
       "       [ -1.02713737,  -7.79670306],\n",
       "       [ -2.38297945,  -6.91716472],\n",
       "       [ -1.50793347,  -8.01063197],\n",
       "       [  0.28558955,  -6.77984327],\n",
       "       [ -1.19247138,  -6.76103763],\n",
       "       [ -0.0274603 ,  -7.45255724],\n",
       "       [ -1.40085569,  -6.8319859 ],\n",
       "       [ -1.99257105,  -6.91177437],\n",
       "       [ -0.44692347,  -8.54846882],\n",
       "       [ -1.51283462,  -4.80053144],\n",
       "       [ -2.4987781 ,  -7.22226595],\n",
       "       [ -0.77457293,  -6.82643855],\n",
       "       [ -0.10477341,  -6.36604192],\n",
       "       [  0.3006222 ,  -7.30524964],\n",
       "       [ -1.83580656,  -7.58830795],\n",
       "       [  0.08250245,  -6.78123106],\n",
       "       [  0.70024844,  -7.48175831],\n",
       "       [ -1.63915216,  -7.86205222],\n",
       "       [ -0.18924693,  -6.3365157 ],\n",
       "       [  0.5471388 ,  -6.53459701],\n",
       "       [ -1.70834126,  -7.74058671],\n",
       "       [  0.09285855,  -6.98714984],\n",
       "       [  0.40336869,  -8.54413129],\n",
       "       [  0.16512443, -10.08628622],\n",
       "       [ -0.95192719,  -7.24760507],\n",
       "       [ -0.80975217,  -6.44740809],\n",
       "       [ -0.67651381,  -7.29963477],\n",
       "       [  0.2299638 ,  -8.19989642],\n",
       "       [  1.03749847,  -7.96329784],\n",
       "       [  0.14474165,  -7.10180313],\n",
       "       [ -0.8833503 ,  -7.21233409],\n",
       "       [ -0.14817755,  -7.78381642],\n",
       "       [  1.74079937,  -8.33049115],\n",
       "       [ -0.45856622,  -6.1884604 ],\n",
       "       [  0.04822162,  -6.23721246],\n",
       "       [ -1.99222426,  -7.5508828 ],\n",
       "       [ -0.420891  ,  -6.0583301 ],\n",
       "       [ -1.28108887,  -7.3722223 ],\n",
       "       [  1.42025582,  -6.93278362],\n",
       "       [ -0.02653504,  -7.38024913],\n",
       "       [  0.72928163,  -9.18786606],\n",
       "       [ -1.27481827,  -7.88270655],\n",
       "       [ -0.33161225,  -7.31375345],\n",
       "       [ -2.59075449,  -7.20581086],\n",
       "       [ -1.31298102,  -4.48949155],\n",
       "       [ -0.73115797,  -6.25794298],\n",
       "       [ -1.01458495,  -7.56170356],\n",
       "       [ -1.31284428,  -6.46844073],\n",
       "       [  0.865865  ,  -8.58215808],\n",
       "       [  0.05789833,  -6.53514823],\n",
       "       [  0.92863427,  -7.78948921],\n",
       "       [  1.12835599,  -8.40334801],\n",
       "       [ -0.0998103 ,  -7.64605449],\n",
       "       [ -0.59405193,  -6.06062904],\n",
       "       [  0.23700392,  -4.24135629],\n",
       "       [ -0.37090323,  -7.89843005],\n",
       "       [  0.89233087,  -6.89448121],\n",
       "       [ -0.73766783,  -5.8298879 ],\n",
       "       [  1.17234111,  -8.62805738],\n",
       "       [ -0.66703124,  -5.95283762],\n",
       "       [ -1.05159842,  -5.44129483],\n",
       "       [ -0.41609201,  -6.71994887],\n",
       "       [ -0.10935281,  -8.24240298],\n",
       "       [ -0.44937948,  -7.84775521],\n",
       "       [ -0.70819681,  -6.05728391],\n",
       "       [  0.37858707,  -7.37873182],\n",
       "       [ -0.01092103,  -5.61920551],\n",
       "       [ -0.32298069,  -7.55554828],\n",
       "       [  0.4457874 ,  -7.71921106],\n",
       "       [ -1.53376821,  -5.26202614],\n",
       "       [ -1.41922339,  -6.99673361],\n",
       "       [  0.14254229,  -7.47356515],\n",
       "       [  1.61054659,  -5.20179771],\n",
       "       [  0.13308998,  -8.70396896],\n",
       "       [  0.09638103,  -8.92133079],\n",
       "       [  0.27246231,  -6.29598591],\n",
       "       [  0.02366155,  -5.87429892],\n",
       "       [ -0.11040636,  -8.09850626],\n",
       "       [ -0.77379127,  -6.06236035],\n",
       "       [ -2.57381342,  -6.97442711],\n",
       "       [ -1.70206958,  -4.9358526 ],\n",
       "       [ -1.99114091,  -9.66409695],\n",
       "       [  6.33200517,  -0.34984159],\n",
       "       [  4.57819616,  -1.47391116],\n",
       "       [  3.8909627 ,  -1.5323388 ],\n",
       "       [  6.12195202,  -1.04021702],\n",
       "       [  5.20616489,  -1.94495436],\n",
       "       [  6.44661445,   0.58670327],\n",
       "       [  6.84897981,  -2.56692269],\n",
       "       [  5.61063308,  -2.02587349],\n",
       "       [  5.0935219 ,  -0.71769825],\n",
       "       [  8.25695785,  -0.79909109],\n",
       "       [  5.50200524,  -1.63593494],\n",
       "       [  6.11014091,  -2.79542787],\n",
       "       [  6.23933293,  -0.18165997],\n",
       "       [  4.53724906,   0.56593607],\n",
       "       [  7.87702435,  -1.89232363],\n",
       "       [  6.34114266,  -1.58476199],\n",
       "       [  4.79968694,  -0.22262935],\n",
       "       [  5.87311456,  -2.42800976],\n",
       "       [  3.93794738,  -0.87546696],\n",
       "       [  4.02396054,  -2.43014543],\n",
       "       [  5.23537544,  -1.60330577],\n",
       "       [  5.90739011,   0.97505897],\n",
       "       [  4.19570583,   0.44780286],\n",
       "       [  4.07689885,  -1.04323901],\n",
       "       [  6.61763372,   1.38861074],\n",
       "       [  3.76442873,   0.677567  ],\n",
       "       [  5.42018652,  -0.92124313],\n",
       "       [  6.09032565,   0.88687173],\n",
       "       [  8.05411402,  -0.6509078 ],\n",
       "       [  4.89923385,  -1.8974039 ],\n",
       "       [  3.21895361,  -2.73310313],\n",
       "       [  6.60709775,  -2.90756735],\n",
       "       [  4.18737071,  -1.73772356],\n",
       "       [  4.73109273,  -2.06574671],\n",
       "       [  4.39816137,  -1.77251726],\n",
       "       [  6.96895972,  -0.39910134],\n",
       "       [  5.61110412,  -1.86853878],\n",
       "       [  5.60478459,  -0.84038673],\n",
       "       [  4.58167339,  -2.32295637],\n",
       "       [  5.73115052,  -1.90609361],\n",
       "       [  4.65634555,  -1.18847999],\n",
       "       [  5.36685087,  -2.20161324],\n",
       "       [  7.11229788,  -0.84917175],\n",
       "       [  5.25224378,  -0.40849646],\n",
       "       [  6.87965093,  -1.14608838],\n",
       "       [  2.77176867,  -2.44607478],\n",
       "       [  5.35506569,  -1.03725375],\n",
       "       [  6.89726516,  -0.64137534],\n",
       "       [  5.14784698,  -0.3067041 ],\n",
       "       [  4.78695143,  -0.15014928],\n",
       "       [  3.82419916,   0.451323  ],\n",
       "       [  5.27449147,  -0.27169165],\n",
       "       [  5.20184507,  -2.60707192],\n",
       "       [  5.21771407,  -1.12055688],\n",
       "       [  5.68698616,  -1.04064814],\n",
       "       [  5.86684584,  -1.74188887],\n",
       "       [  3.68652877,  -1.63026884],\n",
       "       [  4.00907673,  -1.36915277],\n",
       "       [  5.13426179,  -1.10901184],\n",
       "       [  4.88597778,  -0.52237245],\n",
       "       [  6.04322037,  -0.45283089],\n",
       "       [  5.83659814,  -0.37776549],\n",
       "       [  6.41487694,  -1.05252791],\n",
       "       [  3.19207096,  -1.79579348],\n",
       "       [  7.10730415,  -3.37600207],\n",
       "       [  5.57982565,  -1.74819643],\n",
       "       [  6.98688435,  -0.72557695],\n",
       "       [  5.19792975,  -1.11300278],\n",
       "       [  3.75799809,   0.92313033],\n",
       "       [  6.22527936,  -2.04845314],\n",
       "       [  4.89424198,  -0.54029628],\n",
       "       [  4.78861467,  -1.98028149],\n",
       "       [  6.3700638 ,  -1.23655646],\n",
       "       [  5.91703665,  -0.14326821],\n",
       "       [  4.66892484,   0.50688677],\n",
       "       [  6.47672627,  -2.154124  ],\n",
       "       [  4.19355051,  -0.96167051],\n",
       "       [  5.84941563,  -1.82895565],\n",
       "       [  5.25558553,  -1.31492675],\n",
       "       [  5.16298171,  -0.69789837],\n",
       "       [  7.09777159,   0.85242428],\n",
       "       [  4.71881493,  -1.11783446],\n",
       "       [  4.93022002,  -1.13739493],\n",
       "       [  5.12631073,   0.31883606],\n",
       "       [  6.50991672,  -1.65990919],\n",
       "       [  6.91410957,  -1.76296568],\n",
       "       [  5.6833313 ,  -0.4706991 ],\n",
       "       [  5.17780801,  -1.82445858],\n",
       "       [  5.88086989,  -0.2399192 ],\n",
       "       [  5.401022  ,   0.75283261],\n",
       "       [  6.27124455,  -1.60221629],\n",
       "       [  6.29324139,  -1.36808538],\n",
       "       [  6.01835301,  -0.37404889],\n",
       "       [  6.07931963,   0.54982081],\n",
       "       [  5.76040544,  -0.53956132],\n",
       "       [  5.26184877,  -2.57736311],\n",
       "       [  4.96623772,  -0.94402623],\n",
       "       [  2.91808801,  -0.7569726 ],\n",
       "       [  5.92198333,   0.04478845],\n",
       "       [  5.90431143,   0.03151789],\n",
       "       [ -2.35699936,  -5.35780248],\n",
       "       [ -1.81648936,  -5.97521293],\n",
       "       [ -1.01562606,  -6.11076517],\n",
       "       [ -0.90341976,  -5.51677176],\n",
       "       [ -2.87922439,  -6.02918505],\n",
       "       [ -2.61859739,  -4.84782332],\n",
       "       [ -3.91979069,  -6.74925293],\n",
       "       [ -2.44955243,  -6.48522642],\n",
       "       [ -1.7954954 ,  -3.79672059],\n",
       "       [ -2.97454179,  -1.74557806],\n",
       "       [ -2.46408655,  -6.08635816],\n",
       "       [ -0.54938359,  -4.5258132 ],\n",
       "       [ -2.96898848,  -5.04955345],\n",
       "       [ -1.02130133,  -3.35828393],\n",
       "       [ -2.46879506,  -6.07871267],\n",
       "       [ -2.99381582,  -4.29133768],\n",
       "       [ -2.39797707,  -4.64802294],\n",
       "       [ -2.07874873,  -3.3951778 ],\n",
       "       [ -2.77927395,  -5.12858537],\n",
       "       [ -4.58565359,  -5.15654923],\n",
       "       [ -4.23384357,  -5.78509582],\n",
       "       [ -2.37598901,  -5.62851244],\n",
       "       [ -2.57845751,  -7.29369877],\n",
       "       [ -2.87859202,  -4.83747313],\n",
       "       [ -2.44480277,  -4.59479024],\n",
       "       [ -3.17150474,  -4.32467537],\n",
       "       [ -3.02443886,  -5.2847793 ],\n",
       "       [ -1.44236733,  -3.54689877],\n",
       "       [ -1.5895544 ,  -6.12837297],\n",
       "       [ -2.77633512,  -5.48883684],\n",
       "       [ -2.34848175,  -3.36863556],\n",
       "       [ -1.26867342,  -6.20733214],\n",
       "       [ -2.08576613,  -4.72686561],\n",
       "       [ -3.10301344,  -5.37733416],\n",
       "       [ -1.24097244,  -5.13783623],\n",
       "       [ -2.5824992 ,  -5.43892721],\n",
       "       [ -5.84921358,  -4.86191167],\n",
       "       [ -1.49121041,  -2.90053693],\n",
       "       [ -0.01768311,  -5.95880739],\n",
       "       [ -2.41276683,  -5.49967215],\n",
       "       [ -2.10351598,  -6.03582151],\n",
       "       [ -2.11498563,  -4.29258845],\n",
       "       [ -1.76357706,  -4.55460032],\n",
       "       [ -1.36852877,  -5.177961  ],\n",
       "       [ -2.83460512,  -5.02367367],\n",
       "       [ -2.70537107,  -4.57671491],\n",
       "       [ -1.34037444,  -5.07839523],\n",
       "       [ -4.15057016,  -6.65083683],\n",
       "       [ -1.9856497 ,  -4.36365912],\n",
       "       [ -1.87926928,  -7.62718176],\n",
       "       [ -1.62423284,  -2.18684731],\n",
       "       [ -2.43664361,  -5.19440395],\n",
       "       [ -1.27900403,  -5.70123661],\n",
       "       [ -3.47916933,  -3.75804074],\n",
       "       [ -3.36838478,  -4.27846122],\n",
       "       [ -2.95294669,  -5.27961671],\n",
       "       [ -3.32830289,  -4.46190735],\n",
       "       [ -2.47301135,  -5.1317098 ],\n",
       "       [ -2.8628615 ,  -5.55517368],\n",
       "       [ -1.30340288,  -4.13905589],\n",
       "       [ -1.43257413,  -6.14612711],\n",
       "       [ -1.98806766,  -6.6714005 ],\n",
       "       [ -0.84056856,  -3.15957848],\n",
       "       [ -1.00405289,  -4.48448448],\n",
       "       [ -1.84152789,  -5.14266484],\n",
       "       [ -3.25053554,  -4.08820771],\n",
       "       [ -1.37639574,  -5.42088076],\n",
       "       [ -3.8522948 ,  -5.55758039],\n",
       "       [ -2.87731189,  -5.72161138],\n",
       "       [ -4.35294901,  -6.54563041],\n",
       "       [ -2.46743673,  -3.16211314],\n",
       "       [ -3.97342929,  -4.90000393],\n",
       "       [ -2.83885392,  -4.73119611],\n",
       "       [ -2.43527368,  -3.92809107],\n",
       "       [ -2.45402613,  -5.74889268],\n",
       "       [ -2.29811661,  -4.95026022],\n",
       "       [ -1.65013656,  -4.47614538],\n",
       "       [ -1.90117555,  -5.03067746],\n",
       "       [ -2.67977174,  -5.3294951 ],\n",
       "       [ -2.29604785,  -3.82621119],\n",
       "       [ -0.97529324,  -5.6589709 ],\n",
       "       [ -2.68390612,  -5.06529211],\n",
       "       [ -0.62110583,  -5.90533621],\n",
       "       [ -2.38561124,  -7.40204832],\n",
       "       [ -2.10802306,  -5.97093796],\n",
       "       [ -2.47889447,  -4.08992644],\n",
       "       [ -3.85382948,  -7.37859784],\n",
       "       [ -2.06019512,  -5.67037434],\n",
       "       [ -1.94461066,  -3.51136241],\n",
       "       [ -3.47786858,  -6.36195659],\n",
       "       [ -3.36399908,  -6.80221784],\n",
       "       [ -3.30996362,  -3.94110794],\n",
       "       [ -3.32248846,  -6.56867703],\n",
       "       [ -2.07722976,  -4.49642694],\n",
       "       [ -4.62437565,  -4.95138053],\n",
       "       [ -2.99922296,  -4.62901659],\n",
       "       [ -3.28422013,  -5.48955755],\n",
       "       [ -3.62247348,  -2.76972292],\n",
       "       [ -1.88437043,  -4.2407017 ],\n",
       "       [ -1.69182358,  -4.85575696],\n",
       "       [  5.97094404,  -4.90585106],\n",
       "       [  7.31254257,  -4.54846572],\n",
       "       [  6.30172652,  -6.8079476 ],\n",
       "       [  4.09952536,  -5.908775  ],\n",
       "       [  3.15519685,  -6.00063696],\n",
       "       [  4.14975309,  -6.61640112],\n",
       "       [  5.46651854,  -6.0591817 ],\n",
       "       [  4.7596677 ,  -7.02101275],\n",
       "       [  4.41219895,  -6.25948892],\n",
       "       [  3.86807997,  -4.41441097],\n",
       "       [  5.04374092,  -6.5236847 ],\n",
       "       [  3.68604823,  -4.68292567],\n",
       "       [  3.85376871,  -5.68141013],\n",
       "       [  6.05428662,  -4.19521662],\n",
       "       [  4.68162859,  -5.50169454],\n",
       "       [  4.8949725 ,  -5.6539688 ],\n",
       "       [  4.68816522,  -4.20622575],\n",
       "       [  5.06582583,  -5.1982076 ],\n",
       "       [  4.48577293,  -4.50176577],\n",
       "       [  4.19096419,  -4.95870638],\n",
       "       [  3.55367644,  -5.78928939],\n",
       "       [  4.96466555,  -6.08295632],\n",
       "       [  4.90264766,  -5.37811631],\n",
       "       [  4.16038812,  -4.8203228 ],\n",
       "       [  4.89401592,  -5.90723147],\n",
       "       [  4.79580414,  -4.61053735],\n",
       "       [  3.61290352,  -6.7332945 ],\n",
       "       [  5.50086333,  -6.50655106],\n",
       "       [  3.99900263,  -7.79339156],\n",
       "       [  4.2619909 ,  -5.35602446],\n",
       "       [  3.07907728,  -5.23677755],\n",
       "       [  3.21679987,  -6.02504485],\n",
       "       [  5.67024128,  -4.01358597],\n",
       "       [  4.36640648,  -4.31943773],\n",
       "       [  3.85705265,  -4.66462467],\n",
       "       [  2.90936632,  -5.14071201],\n",
       "       [  4.2449733 ,  -6.63290561],\n",
       "       [  4.29413633,  -5.94656423],\n",
       "       [  4.35707591,  -4.94163166],\n",
       "       [  3.72509098,  -6.36252559],\n",
       "       [  4.46048559,  -6.16298017],\n",
       "       [  4.43151914,  -6.85579575],\n",
       "       [  5.28143867,  -6.60906817],\n",
       "       [  5.38929579,  -4.77597436],\n",
       "       [  3.77902456,  -4.94576207],\n",
       "       [  5.87388693,  -5.85022554],\n",
       "       [  4.93693593,  -6.50829509],\n",
       "       [  5.59114459,  -5.37960618],\n",
       "       [  6.1024895 ,  -4.62599135],\n",
       "       [  4.53320216,  -6.45208624],\n",
       "       [  5.43192189,  -4.42394428],\n",
       "       [  4.24009262,  -4.60197103],\n",
       "       [  4.99242249,  -5.82338537],\n",
       "       [  3.81103002,  -5.63856144],\n",
       "       [  5.5227436 ,  -6.50016182],\n",
       "       [  4.43043246,  -5.67625607],\n",
       "       [  3.82948199,  -6.52903884],\n",
       "       [  4.95376865,  -4.51414633],\n",
       "       [  4.28571391,  -6.72597868],\n",
       "       [  4.54838596,  -5.92849173],\n",
       "       [  4.75322857,  -6.70820593],\n",
       "       [  5.25259409,  -6.15854532],\n",
       "       [  5.53091109,  -5.73560693],\n",
       "       [  3.94067733,  -5.90861974],\n",
       "       [  4.95927787,  -5.17174332],\n",
       "       [  5.40787802,  -6.95411745],\n",
       "       [  3.78354322,  -5.86784266],\n",
       "       [  2.37756996,  -6.04478066],\n",
       "       [  4.94613795,  -6.28847654],\n",
       "       [  4.45606956,  -6.19644224],\n",
       "       [  4.44695466,  -6.6482791 ],\n",
       "       [  5.52388501,  -4.75009292],\n",
       "       [  4.77606854,  -3.77252049],\n",
       "       [  5.02386626,  -5.68621827],\n",
       "       [  2.55180215,  -6.56962081],\n",
       "       [  5.2156084 ,  -4.00058483],\n",
       "       [  4.05757746,  -4.70017274],\n",
       "       [  3.86435221,  -5.82183117],\n",
       "       [  3.93853449,  -5.9203451 ],\n",
       "       [  4.08919129,  -5.24960868],\n",
       "       [  3.3897786 ,  -3.92252882],\n",
       "       [  5.25212992,  -7.41548755],\n",
       "       [  3.09248458,  -3.32254838],\n",
       "       [  3.53870393,  -4.95806105],\n",
       "       [  3.58144922,  -2.46021841],\n",
       "       [  3.01725132,  -3.82540735],\n",
       "       [  5.04121861,  -5.89923258],\n",
       "       [  4.2644676 ,  -6.45943821],\n",
       "       [  2.48172962,  -4.96243612],\n",
       "       [  6.54013915,  -5.79474752],\n",
       "       [  5.08342897,  -4.5879337 ],\n",
       "       [  3.16025864,  -5.98420996],\n",
       "       [  3.03236137,  -4.85335584],\n",
       "       [  3.57629452,  -4.01587015],\n",
       "       [  5.56407876,  -6.40519972],\n",
       "       [  5.08316636,  -5.27228458],\n",
       "       [  4.0319867 ,  -5.65208792],\n",
       "       [  4.71978175,  -7.32464672],\n",
       "       [  5.81339813,  -6.12620994],\n",
       "       [  3.81384653,  -4.85138325]])"
      ]
     },
     "execution_count": 6,
     "metadata": {},
     "output_type": "execute_result"
    }
   ],
   "source": [
    "point"
   ]
  },
  {
   "cell_type": "code",
   "execution_count": 7,
   "metadata": {},
   "outputs": [
    {
     "data": {
      "text/plain": [
       "((400, 2), (400,))"
      ]
     },
     "execution_count": 7,
     "metadata": {},
     "output_type": "execute_result"
    }
   ],
   "source": [
    "point.shape, label.shape"
   ]
  },
  {
   "cell_type": "code",
   "execution_count": 8,
   "metadata": {},
   "outputs": [
    {
     "data": {
      "image/png": "[encoded data removed]",
      "text/plain": [
       "<Figure size 432x288 with 1 Axes>"
      ]
     },
     "metadata": {
      "needs_background": "light"
     },
     "output_type": "display_data"
    }
   ],
   "source": [
    "for answer in range(4):\n",
    "    mask = label == answer\n",
    "    plt.scatter(point[mask,0], point[mask,1])\n",
    "    \n",
    "plt.show()"
   ]
  },
  {
   "cell_type": "markdown",
   "metadata": {},
   "source": [
    "### 도구들 정의해주기"
   ]
  },
  {
   "cell_type": "code",
   "execution_count": 9,
   "metadata": {},
   "outputs": [],
   "source": [
    "object_loss = tf.keras.losses.SparseCategoricalCrossentropy()\n",
    "optimizer = tf.keras.optimizers.Adam()\n",
    "train_loss = tf.keras.metrics.Mean()\n",
    "train_accuracy = tf.keras.metrics.SparseCategoricalAccuracy()"
   ]
  },
  {
   "cell_type": "markdown",
   "metadata": {},
   "source": [
    "### 훈련시키기"
   ]
  },
  {
   "cell_type": "code",
   "execution_count": 10,
   "metadata": {},
   "outputs": [
    {
     "name": "stdout",
     "output_type": "stream",
     "text": [
      "epoch : 1, loss : 1.2954809665679932, accuracy : 34.0\n",
      "epoch : 2, loss : 1.1305816173553467, accuracy : 63.75\n",
      "epoch : 3, loss : 1.0194776058197021, accuracy : 91.5\n",
      "epoch : 4, loss : 0.9243568778038025, accuracy : 94.25\n",
      "epoch : 5, loss : 0.8478960394859314, accuracy : 95.25\n",
      "epoch : 6, loss : 0.7802504301071167, accuracy : 92.0\n",
      "epoch : 7, loss : 0.7255308628082275, accuracy : 93.75\n",
      "epoch : 8, loss : 0.6769424676895142, accuracy : 93.0\n",
      "epoch : 9, loss : 0.630744993686676, accuracy : 93.0\n",
      "epoch : 10, loss : 0.591126561164856, accuracy : 93.5\n",
      "epoch : 11, loss : 0.5569371581077576, accuracy : 94.0\n",
      "epoch : 12, loss : 0.5263732671737671, accuracy : 94.75\n",
      "epoch : 13, loss : 0.5012010931968689, accuracy : 95.25\n",
      "epoch : 14, loss : 0.4726293683052063, accuracy : 95.25\n",
      "epoch : 15, loss : 0.4470708668231964, accuracy : 95.0\n",
      "epoch : 16, loss : 0.43004482984542847, accuracy : 95.0\n",
      "epoch : 17, loss : 0.40701043605804443, accuracy : 95.5\n",
      "epoch : 18, loss : 0.3892793655395508, accuracy : 95.0\n",
      "epoch : 19, loss : 0.3747929036617279, accuracy : 94.5\n",
      "epoch : 20, loss : 0.35901322960853577, accuracy : 95.25\n",
      "epoch : 21, loss : 0.34641188383102417, accuracy : 95.25\n",
      "epoch : 22, loss : 0.3326190114021301, accuracy : 95.25\n",
      "epoch : 23, loss : 0.32547125220298767, accuracy : 94.5\n",
      "epoch : 24, loss : 0.31240302324295044, accuracy : 95.5\n",
      "epoch : 25, loss : 0.30125683546066284, accuracy : 95.25\n",
      "epoch : 26, loss : 0.2936460077762604, accuracy : 94.5\n",
      "epoch : 27, loss : 0.2856252193450928, accuracy : 94.75\n",
      "epoch : 28, loss : 0.2752992808818817, accuracy : 95.25\n",
      "epoch : 29, loss : 0.26483362913131714, accuracy : 95.0\n",
      "epoch : 30, loss : 0.26313698291778564, accuracy : 95.0\n",
      "epoch : 31, loss : 0.25140073895454407, accuracy : 95.25\n",
      "epoch : 32, loss : 0.2493894398212433, accuracy : 95.25\n",
      "epoch : 33, loss : 0.2383405864238739, accuracy : 94.5\n",
      "epoch : 34, loss : 0.23569215834140778, accuracy : 95.5\n",
      "epoch : 35, loss : 0.22787357866764069, accuracy : 94.25\n",
      "epoch : 36, loss : 0.22340697050094604, accuracy : 94.75\n",
      "epoch : 37, loss : 0.2196984887123108, accuracy : 94.75\n",
      "epoch : 38, loss : 0.21541191637516022, accuracy : 94.75\n",
      "epoch : 39, loss : 0.21519556641578674, accuracy : 94.5\n",
      "epoch : 40, loss : 0.2129354476928711, accuracy : 95.25\n",
      "epoch : 41, loss : 0.20296460390090942, accuracy : 94.5\n",
      "epoch : 42, loss : 0.1974930763244629, accuracy : 94.5\n",
      "epoch : 43, loss : 0.19450142979621887, accuracy : 95.25\n",
      "epoch : 44, loss : 0.19224315881729126, accuracy : 94.75\n",
      "epoch : 45, loss : 0.19043150544166565, accuracy : 95.25\n",
      "epoch : 46, loss : 0.19222807884216309, accuracy : 94.75\n",
      "epoch : 47, loss : 0.18692955374717712, accuracy : 94.5\n",
      "epoch : 48, loss : 0.18455304205417633, accuracy : 94.5\n",
      "epoch : 49, loss : 0.1826440989971161, accuracy : 94.5\n",
      "epoch : 50, loss : 0.18109041452407837, accuracy : 95.25\n"
     ]
    }
   ],
   "source": [
    "for epoch in range(50):\n",
    "    \n",
    "    for train_point, train_label in train_set:\n",
    "        \n",
    "        # 훈련시키기\n",
    "        train_step(Model, train_point, train_label,\n",
    "                   object_loss, optimizer, train_loss, train_accuracy)\n",
    "        \n",
    "    print( \"epoch : {}, loss : {}, accuracy : {}\".format(epoch + 1,\n",
    "                                                         train_loss.result(),\n",
    "                                                         train_accuracy.result() * 100\n",
    "                                                        ))\n",
    "          \n",
    "    train_loss.reset_states()\n",
    "    train_accuracy.reset_states()"
   ]
  },
  {
   "cell_type": "code",
   "execution_count": 11,
   "metadata": {},
   "outputs": [],
   "source": [
    "pred = []\n",
    "for i in range(400):\n",
    "    pred.append ( np.argmax(Model(point)[i]) )\n",
    "pred = np.array(pred)"
   ]
  },
  {
   "cell_type": "code",
   "execution_count": 12,
   "metadata": {},
   "outputs": [
    {
     "data": {
      "text/plain": [
       "((400, 2), (400,))"
      ]
     },
     "execution_count": 12,
     "metadata": {},
     "output_type": "execute_result"
    }
   ],
   "source": [
    "point.shape, pred.shape"
   ]
  },
  {
   "cell_type": "code",
   "execution_count": 13,
   "metadata": {},
   "outputs": [
    {
     "data": {
      "image/png": "[encoded data removed]",
      "text/plain": [
       "<Figure size 432x288 with 1 Axes>"
      ]
     },
     "metadata": {
      "needs_background": "light"
     },
     "output_type": "display_data"
    }
   ],
   "source": [
    "for answer in range(4):\n",
    "    mask = pred == answer\n",
    "    plt.scatter(point[mask,0], point[mask,1])\n",
    "plt.show()"
   ]
  },
  {
   "cell_type": "code",
   "execution_count": 14,
   "metadata": {},
   "outputs": [
    {
     "data": {
      "text/plain": [
       "95.5"
      ]
     },
     "execution_count": 14,
     "metadata": {},
     "output_type": "execute_result"
    }
   ],
   "source": [
    "# 맞춘 확률 구하기\n",
    "num = label == pred\n",
    "num.sum() / len(num) * 100"
   ]
  },
  {
   "cell_type": "code",
   "execution_count": 15,
   "metadata": {},
   "outputs": [
    {
     "data": {
      "text/plain": [
       "(TensorShape([2, 128]),\n",
       " TensorShape([128]),\n",
       " TensorShape([128, 4]),\n",
       " TensorShape([4]))"
      ]
     },
     "execution_count": 15,
     "metadata": {},
     "output_type": "execute_result"
    }
   ],
   "source": [
    "a, b, c, d = Model.weights\n",
    "a.shape, b.shape, c.shape, d.shape"
   ]
  },
  {
   "cell_type": "code",
   "execution_count": 16,
   "metadata": {},
   "outputs": [
    {
     "data": {
      "text/plain": [
       "900"
      ]
     },
     "execution_count": 16,
     "metadata": {},
     "output_type": "execute_result"
    }
   ],
   "source": [
    "Model.count_params()"
   ]
  },
  {
   "cell_type": "code",
   "execution_count": 17,
   "metadata": {},
   "outputs": [
    {
     "data": {
      "text/plain": [
       "1674"
      ]
     },
     "execution_count": 17,
     "metadata": {},
     "output_type": "execute_result"
    }
   ],
   "source": [
    "128 * 2 + 128 + 128 * 10 + 10"
   ]
  }
 ],
 "metadata": {
  "kernelspec": {
   "display_name": "Python 3",
   "language": "python",
   "name": "python3"
  },
  "language_info": {
   "codemirror_mode": {
    "name": "ipython",
    "version": 3
   },
   "file_extension": ".py",
   "mimetype": "text/x-python",
   "name": "python",
   "nbconvert_exporter": "python",
   "pygments_lexer": "ipython3",
   "version": "3.8.5"
  }
 },
 "nbformat": 4,
 "nbformat_minor": 4
}
