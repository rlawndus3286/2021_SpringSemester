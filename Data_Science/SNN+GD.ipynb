{
 "cells": [
  {
   "cell_type": "markdown",
   "metadata": {},
   "source": [
    "**Paper**\n",
    "\n",
    "The Matrix Calculus You need For Deep Learning\n",
    "- Terence Parr, Jeremy Howard\n",
    "\n",
    "알아둬야 하는 기초 선형대수, 미적분학 정리"
   ]
  },
  {
   "cell_type": "code",
   "execution_count": 2,
   "metadata": {},
   "outputs": [],
   "source": [
    "import numpy as np\n",
    "\n",
    "# 머신러닝, 딥러닝 도구모음\n",
    "import tensorflow as tf\n",
    "\n",
    "# 그래프 도구모음\n",
    "import matplotlib.pyplot as plt"
   ]
  },
  {
   "cell_type": "markdown",
   "metadata": {},
   "source": [
    "# Shallow Neuron Network (얕은 신경망)"
   ]
  },
  {
   "cell_type": "markdown",
   "metadata": {},
   "source": [
    " 앞서 공부한 선형회귀는 직선형태로 y = ax + b 형태로 출력되는 것을 알 수 있었다.\n",
    "\n",
    "그런데, 만약에 많은 변수(무게, 크기, 모양, ...)들을 가지고 선형회귀를 진행하면 좀 더 괜찮지 않을까?\n",
    "\n",
    "그래서 하나의 선형모양을 우리가 아는 뉴런(neuron)으로 표현을 한다."
   ]
  },
  {
   "cell_type": "markdown",
   "metadata": {},
   "source": [
    " 뉴런들을 모아놓은 것들을 계층(layer)이라고 표현을 하고 대체적으로 열벡터(col, 세로)으로 나타낸다.\n",
    "\n",
    "입력, 은닉, 출력 계층으로 나타낼 수 있다.\n",
    "\n",
    "입력 = 데이터들을 받는 부분이다. 예시로 무게, 크기, 모양 ... 이것들이 들어간다.\n",
    "\n",
    "은닉 = 입력에서 받은 x 들을 가공하는 부분이다.\n",
    "\n",
    "출력 = 은닉에서 가공한것을 답으로 출력한다. 예시로 고양이, 개 등등 답이 들어간다."
   ]
  },
  {
   "cell_type": "markdown",
   "metadata": {},
   "source": [
    "## 예시"
   ]
  },
  {
   "cell_type": "markdown",
   "metadata": {},
   "source": [
    "### 문제"
   ]
  },
  {
   "cell_type": "markdown",
   "metadata": {},
   "source": [
    "주어진 데이터와 답\n",
    "\n",
    "데이터 = 좌표평면에 중심을 4개 찍고 그 중심으로 특정한 범위안에 점을 200개씩 찍는다.\n",
    "\n",
    "답 = 중심들의 답을 1번답, 2번답, 3번답, 4번답으로 표현하고 특정범위안에 점들의 답들이 된다.\n",
    "\n",
    "1번답 = 200개, 2번답 = 200개, 3번답 = 200개, 4번답 = 200개"
   ]
  },
  {
   "cell_type": "markdown",
   "metadata": {},
   "source": [
    "### 모델링"
   ]
  },
  {
   "cell_type": "markdown",
   "metadata": {},
   "source": [
    "입력으로는 평면의 좌표 (x,y) 이므로 두개를 받는다. (2 x 1) 행렬\n",
    "\n",
    "은닉으로는 임의로 정한다. 128개, (128 x 1) 행렬\n",
    "\n",
    "출력으로는 답의 개수인 4개로 받는다. (4 x 1) 행렬|"
   ]
  },
  {
   "cell_type": "markdown",
   "metadata": {},
   "source": [
    "입력은 x , 은닉은 h , 출력은 y로 받고, 기울기 부분은 w, 상수 부분은 b로 받는다.\n",
    "\n",
    "( w = weight 가중치 , b = bias 편향도 )"
   ]
  },
  {
   "cell_type": "markdown",
   "metadata": {},
   "source": [
    "입력에서 은닉으로 갈 경우, h = wx + b 로 표현이 된다.\n",
    "\n",
    "h 는 (128 x 1), x 는 (2 x 1) 행렬이므로\n",
    "\n",
    "형태를 맞춰주려면 w 는 (128 x 2) 행렬이고 b 는 (128 x 1) 이다."
   ]
  },
  {
   "cell_type": "markdown",
   "metadata": {},
   "source": [
    "은닉에서 출력으로 갈 경우, y = wh + b 로 표현이 된다.\n",
    "\n",
    "y 는 (10 x 1), h 는 (128 x 1) 행렬이므로\n",
    "\n",
    "형태를 맞춰주려면 w 는 (10 x 128) 행렬이고 b 는 (10 x 1) 이다."
   ]
  },
  {
   "cell_type": "code",
   "execution_count": 3,
   "metadata": {},
   "outputs": [],
   "source": [
    "class SNN(tf.keras.Model):\n",
    "    \n",
    "    def __init__(self):\n",
    "        # 상속받기\n",
    "        # model에서 필요한 함수와 변수들을 가져와줌\n",
    "        super(SNN, self).__init__()\n",
    "        \n",
    "        # layer 만들어주기 d1 = 은닉계층, d2 = 출력계층\n",
    "        # 또한 activation에 따라서 선형식의 역할이 달라짐 (ex. 회귀, 분류 ...)\n",
    "        self.d1 = tf.keras.layers.Dense(128, input_dim=2, activation = \"sigmoid\")\n",
    "        self.d2 = tf.keras.layers.Dense(4, activation=\"softmax\")\n",
    "        \n",
    "    def call(self, x):\n",
    "        h = self.d1(x)\n",
    "        y = self.d2(h)\n",
    "        return y"
   ]
  },
  {
   "cell_type": "markdown",
   "metadata": {},
   "source": [
    "## Gradient Descent (경사 하강법)"
   ]
  },
  {
   "cell_type": "markdown",
   "metadata": {},
   "source": [
    "최적화 하는 방법중 하나임.\n",
    "\n",
    "입력 -> 모델에 넣음 -> 출력 -> 입력과 출력과의 오차\n",
    "\n",
    "이 오차들을 줄이기 위해 미분을 통해서 모델에 있는 변수들의 값들을 바꿈 (w, h)\n",
    "\n",
    "다시 입력 -> 모델에 넣음 -> 출력 -> 입력과 출력과의 오차\n",
    "\n",
    "이것을 계속 반복하여 오차들을 줄여나가면서 모델이 최적화가 됨\n",
    "\n",
    "필요한 것 = loss(손실함수) , optimizer(최적화 함수도구), metric(평가 도구)"
   ]
  },
  {
   "cell_type": "code",
   "execution_count": 4,
   "metadata": {},
   "outputs": [],
   "source": [
    "@tf.function\n",
    "\n",
    "# 넣을 모델, 문제, 정답, 오차, 최적화, 오차와 정확도 계산도구\n",
    "def train_step(model, inputs, labels, loss_object, optimizer, train_loss, train_accuracy):\n",
    "    \n",
    "    # 미분할 변수 저장\n",
    "    with tf.GradientTape() as tape:\n",
    "        predictions = model(inputs)\n",
    "        loss = loss_object(labels, predictions)\n",
    "        \n",
    "    # 미분\n",
    "    gradients = tape.gradient(loss, model.trainable_variables)\n",
    "    \n",
    "    # 미분하여 최적화 시키는 변수들 저장\n",
    "    optimizer.apply_gradients(zip(gradients, model.trainable_variables))\n",
    "    \n",
    "    # 한 세트 훈련 후 오차와 정확도 계산\n",
    "    train_loss(loss)\n",
    "    train_accuracy(labels,predictions)"
   ]
  },
  {
   "cell_type": "markdown",
   "metadata": {},
   "source": [
    "### 모델 정의해주기"
   ]
  },
  {
   "cell_type": "code",
   "execution_count": 5,
   "metadata": {},
   "outputs": [],
   "source": [
    "# 입력 = 2, 은닉 = 128, 출력 = 10\n",
    "Model = SNN()"
   ]
  },
  {
   "cell_type": "markdown",
   "metadata": {},
   "source": [
    "### 문제와 정답 세트 만들기"
   ]
  },
  {
   "cell_type": "code",
   "execution_count": 6,
   "metadata": {},
   "outputs": [],
   "source": [
    "np.random.seed(22)\n",
    "point = []\n",
    "label = []\n",
    "center = 5*np.random.randn(4,2)\n",
    "\n",
    "for index, center in enumerate(center) :\n",
    "    for num in range(200):\n",
    "        point.append(center + np.random.randn(2))\n",
    "        label.append(index)\n",
    "\n",
    "point = np.stack(point, axis=0)\n",
    "label = np.stack(label, axis=0)\n",
    "\n",
    "# 또한 훈련세트에 넣을 때는 문제랑 정답 순서를 섞기도 해야하고\n",
    "# 훈련시킬때 한개한개씩 넣지않고 훈련세트를 한꺼번에 넣는다 (batch)\n",
    "\n",
    "# 32개씩 넣어 훈련시킴\n",
    "train_set = tf.data.Dataset.from_tensor_slices((point, label)).shuffle(400).batch(32)"
   ]
  },
  {
   "cell_type": "code",
   "execution_count": 7,
   "metadata": {},
   "outputs": [
    {
     "data": {
      "text/plain": [
       "array([[ 0.16674386, -7.87826704],\n",
       "       [-0.43089448, -7.54752045]])"
      ]
     },
     "execution_count": 7,
     "metadata": {},
     "output_type": "execute_result"
    }
   ],
   "source": [
    "point[:2]"
   ]
  },
  {
   "cell_type": "code",
   "execution_count": 8,
   "metadata": {},
   "outputs": [
    {
     "data": {
      "text/plain": [
       "((800, 2), (800,))"
      ]
     },
     "execution_count": 8,
     "metadata": {},
     "output_type": "execute_result"
    }
   ],
   "source": [
    "point.shape, label.shape"
   ]
  },
  {
   "cell_type": "code",
   "execution_count": 9,
   "metadata": {},
   "outputs": [
    {
     "data": {
      "image/png": "[encoded data removed]",
      "text/plain": [
       "<Figure size 432x288 with 1 Axes>"
      ]
     },
     "metadata": {
      "needs_background": "light"
     },
     "output_type": "display_data"
    }
   ],
   "source": [
    "for answer in range(4):\n",
    "    mask = label == answer\n",
    "    plt.scatter(point[mask,0], point[mask,1])\n",
    "    \n",
    "plt.show()"
   ]
  },
  {
   "cell_type": "markdown",
   "metadata": {},
   "source": [
    "### 도구들 정의해주기"
   ]
  },
  {
   "cell_type": "code",
   "execution_count": 10,
   "metadata": {},
   "outputs": [],
   "source": [
    "object_loss = tf.keras.losses.SparseCategoricalCrossentropy()\n",
    "optimizer = tf.keras.optimizers.Adam()\n",
    "train_loss = tf.keras.metrics.Mean()\n",
    "train_accuracy = tf.keras.metrics.SparseCategoricalAccuracy()"
   ]
  },
  {
   "cell_type": "markdown",
   "metadata": {},
   "source": [
    "### 훈련시키기"
   ]
  },
  {
   "cell_type": "code",
   "execution_count": 11,
   "metadata": {},
   "outputs": [
    {
     "name": "stdout",
     "output_type": "stream",
     "text": [
      "epoch : 1, loss : 1.3496792316436768, accuracy : 38.5\n",
      "epoch : 2, loss : 1.0946383476257324, accuracy : 75.5\n",
      "epoch : 3, loss : 0.9694111347198486, accuracy : 80.625\n",
      "epoch : 4, loss : 0.8545317649841309, accuracy : 88.75\n",
      "epoch : 5, loss : 0.7672865390777588, accuracy : 91.125\n",
      "epoch : 6, loss : 0.7036277055740356, accuracy : 90.0\n",
      "epoch : 7, loss : 0.6368668079376221, accuracy : 93.5\n",
      "epoch : 8, loss : 0.599900484085083, accuracy : 91.375\n",
      "epoch : 9, loss : 0.5534106492996216, accuracy : 93.0\n",
      "epoch : 10, loss : 0.5068660378456116, accuracy : 94.25\n",
      "epoch : 11, loss : 0.4820198714733124, accuracy : 94.875\n",
      "epoch : 12, loss : 0.4468620717525482, accuracy : 95.0\n",
      "epoch : 13, loss : 0.42449676990509033, accuracy : 94.75\n",
      "epoch : 14, loss : 0.4001573920249939, accuracy : 94.375\n",
      "epoch : 15, loss : 0.38446345925331116, accuracy : 94.375\n",
      "epoch : 16, loss : 0.36242347955703735, accuracy : 94.625\n",
      "epoch : 17, loss : 0.3498455286026001, accuracy : 94.75\n",
      "epoch : 18, loss : 0.32621151208877563, accuracy : 94.875\n",
      "epoch : 19, loss : 0.31722983717918396, accuracy : 94.625\n",
      "epoch : 20, loss : 0.3019126355648041, accuracy : 95.25\n",
      "epoch : 21, loss : 0.2943532466888428, accuracy : 94.75\n",
      "epoch : 22, loss : 0.28259342908859253, accuracy : 94.75\n",
      "epoch : 23, loss : 0.27386972308158875, accuracy : 94.625\n",
      "epoch : 24, loss : 0.2638845145702362, accuracy : 95.25\n",
      "epoch : 25, loss : 0.2541561424732208, accuracy : 94.75\n",
      "epoch : 26, loss : 0.24919481575489044, accuracy : 94.75\n",
      "epoch : 27, loss : 0.24006004631519318, accuracy : 95.25\n",
      "epoch : 28, loss : 0.23212090134620667, accuracy : 95.0\n",
      "epoch : 29, loss : 0.22918155789375305, accuracy : 94.25\n",
      "epoch : 30, loss : 0.22157029807567596, accuracy : 95.0\n",
      "epoch : 31, loss : 0.21825851500034332, accuracy : 94.75\n",
      "epoch : 32, loss : 0.2113620936870575, accuracy : 94.5\n",
      "epoch : 33, loss : 0.2073242962360382, accuracy : 95.625\n",
      "epoch : 34, loss : 0.2037600874900818, accuracy : 95.0\n",
      "epoch : 35, loss : 0.2000315636396408, accuracy : 94.875\n",
      "epoch : 36, loss : 0.19680336117744446, accuracy : 94.5\n",
      "epoch : 37, loss : 0.19463901221752167, accuracy : 95.125\n",
      "epoch : 38, loss : 0.1850467473268509, accuracy : 95.25\n",
      "epoch : 39, loss : 0.18488161265850067, accuracy : 94.875\n",
      "epoch : 40, loss : 0.1815156489610672, accuracy : 95.25\n",
      "epoch : 41, loss : 0.18078617751598358, accuracy : 95.0\n",
      "epoch : 42, loss : 0.1794418841600418, accuracy : 94.625\n",
      "epoch : 43, loss : 0.1747174710035324, accuracy : 94.875\n",
      "epoch : 44, loss : 0.17408807575702667, accuracy : 94.875\n",
      "epoch : 45, loss : 0.17073041200637817, accuracy : 95.0\n",
      "epoch : 46, loss : 0.1686250865459442, accuracy : 94.75\n",
      "epoch : 47, loss : 0.16581901907920837, accuracy : 95.0\n",
      "epoch : 48, loss : 0.16483314335346222, accuracy : 95.125\n",
      "epoch : 49, loss : 0.16232571005821228, accuracy : 94.875\n",
      "epoch : 50, loss : 0.1601751744747162, accuracy : 95.375\n"
     ]
    }
   ],
   "source": [
    "for epoch in range(50):\n",
    "    \n",
    "    for train_point, train_label in train_set:\n",
    "        \n",
    "        # 훈련시키기\n",
    "        train_step(Model, train_point, train_label,\n",
    "                   object_loss, optimizer, train_loss, train_accuracy)\n",
    "        \n",
    "    print( \"epoch : {}, loss : {}, accuracy : {}\".format(epoch + 1,\n",
    "                                                         train_loss.result(),\n",
    "                                                         train_accuracy.result() * 100\n",
    "                                                        ))\n",
    "          \n",
    "    train_loss.reset_states()\n",
    "    train_accuracy.reset_states()"
   ]
  },
  {
   "cell_type": "code",
   "execution_count": 12,
   "metadata": {},
   "outputs": [],
   "source": [
    "pred = []\n",
    "for i in range(800):\n",
    "    pred.append ( np.argmax(Model(point)[i]) )\n",
    "pred = np.array(pred)"
   ]
  },
  {
   "cell_type": "code",
   "execution_count": 13,
   "metadata": {},
   "outputs": [
    {
     "data": {
      "text/plain": [
       "array([0, 0])"
      ]
     },
     "execution_count": 13,
     "metadata": {},
     "output_type": "execute_result"
    }
   ],
   "source": [
    "pred[:2]"
   ]
  },
  {
   "cell_type": "code",
   "execution_count": 14,
   "metadata": {},
   "outputs": [
    {
     "data": {
      "text/plain": [
       "((800, 2), (800,))"
      ]
     },
     "execution_count": 14,
     "metadata": {},
     "output_type": "execute_result"
    }
   ],
   "source": [
    "point.shape, pred.shape"
   ]
  },
  {
   "cell_type": "code",
   "execution_count": 15,
   "metadata": {},
   "outputs": [
    {
     "data": {
      "image/png": "[encoded data removed]",
      "text/plain": [
       "<Figure size 432x288 with 1 Axes>"
      ]
     },
     "metadata": {
      "needs_background": "light"
     },
     "output_type": "display_data"
    }
   ],
   "source": [
    "for answer in range(4):\n",
    "    mask = pred == answer\n",
    "    plt.scatter(point[mask,0], point[mask,1])\n",
    "plt.show()"
   ]
  },
  {
   "cell_type": "code",
   "execution_count": 16,
   "metadata": {},
   "outputs": [
    {
     "data": {
      "text/plain": [
       "95.25"
      ]
     },
     "execution_count": 16,
     "metadata": {},
     "output_type": "execute_result"
    }
   ],
   "source": [
    "# 맞춘 확률 구하기\n",
    "num = label == pred\n",
    "num.sum() / len(num) * 100"
   ]
  },
  {
   "cell_type": "code",
   "execution_count": 17,
   "metadata": {},
   "outputs": [
    {
     "data": {
      "text/plain": [
       "(TensorShape([2, 128]),\n",
       " TensorShape([128]),\n",
       " TensorShape([128, 4]),\n",
       " TensorShape([4]))"
      ]
     },
     "execution_count": 17,
     "metadata": {},
     "output_type": "execute_result"
    }
   ],
   "source": [
    "# w, b 들 가져오기\n",
    "a, b, c, d = Model.weights\n",
    "a.shape, b.shape, c.shape, d.shape"
   ]
  },
  {
   "cell_type": "code",
   "execution_count": 18,
   "metadata": {},
   "outputs": [
    {
     "data": {
      "text/plain": [
       "900"
      ]
     },
     "execution_count": 18,
     "metadata": {},
     "output_type": "execute_result"
    }
   ],
   "source": [
    "# 파라미터 개수 (w, b 개수들)\n",
    "Model.count_params()"
   ]
  },
  {
   "cell_type": "code",
   "execution_count": 19,
   "metadata": {},
   "outputs": [
    {
     "data": {
      "text/plain": [
       "900"
      ]
     },
     "execution_count": 19,
     "metadata": {},
     "output_type": "execute_result"
    }
   ],
   "source": [
    "2 * 128 + 128 + 128 * 4 + 4"
   ]
  },
  {
   "cell_type": "code",
   "execution_count": 20,
   "metadata": {},
   "outputs": [
    {
     "data": {
      "text/plain": [
       "(800, 2)"
      ]
     },
     "execution_count": 20,
     "metadata": {},
     "output_type": "execute_result"
    }
   ],
   "source": [
    "point.shape"
   ]
  },
  {
   "cell_type": "code",
   "execution_count": 21,
   "metadata": {},
   "outputs": [],
   "source": [
    "x, y = np.hsplit(point, 2)"
   ]
  },
  {
   "cell_type": "code",
   "execution_count": 22,
   "metadata": {},
   "outputs": [],
   "source": [
    "test_x = np.linspace(x.min(), x.max(), 100)\n",
    "test_y = np.linspace(y.min(), y.max(), 100)\n",
    "\n",
    "test_set = []\n",
    "for x in test_x:\n",
    "    for y in test_y:\n",
    "        test_set.append([x,y])"
   ]
  },
  {
   "cell_type": "code",
   "execution_count": 24,
   "metadata": {},
   "outputs": [],
   "source": [
    "test_set = np.stack(test_set, axis=0)"
   ]
  },
  {
   "cell_type": "code",
   "execution_count": 25,
   "metadata": {},
   "outputs": [
    {
     "data": {
      "text/plain": [
       "(10000, 2)"
      ]
     },
     "execution_count": 25,
     "metadata": {},
     "output_type": "execute_result"
    }
   ],
   "source": [
    "test_set.shape"
   ]
  },
  {
   "cell_type": "code",
   "execution_count": 27,
   "metadata": {},
   "outputs": [
    {
     "data": {
      "image/png": "[encoded data removed]",
      "text/plain": [
       "<Figure size 432x288 with 1 Axes>"
      ]
     },
     "metadata": {
      "needs_background": "light"
     },
     "output_type": "display_data"
    }
   ],
   "source": [
    "pred = []\n",
    "for i in range(10000):\n",
    "    pred.append ( np.argmax(Model(test_set)[i]) )\n",
    "pred = np.array(pred)\n",
    "\n",
    "for answer in range(4):\n",
    "    mask = pred == answer\n",
    "    plt.scatter(test_set[mask,0], test_set[mask,1])\n",
    "plt.show()"
   ]
  },
  {
   "cell_type": "code",
   "execution_count": null,
   "metadata": {},
   "outputs": [],
   "source": []
  }
 ],
 "metadata": {
  "kernelspec": {
   "display_name": "Python 3",
   "language": "python",
   "name": "python3"
  },
  "language_info": {
   "codemirror_mode": {
    "name": "ipython",
    "version": 3
   },
   "file_extension": ".py",
   "mimetype": "text/x-python",
   "name": "python",
   "nbconvert_exporter": "python",
   "pygments_lexer": "ipython3",
   "version": "3.8.5"
  }
 },
 "nbformat": 4,
 "nbformat_minor": 4
}
